{
 "cells": [
  {
   "cell_type": "code",
   "execution_count": 1,
   "metadata": {},
   "outputs": [],
   "source": [
    "# bibliotecas\n",
    "import pandas as pd\n",
    "from random import seed\n",
    "from random import random"
   ]
  },
  {
   "cell_type": "code",
   "execution_count": 2,
   "metadata": {},
   "outputs": [],
   "source": [
    "# lendo os arquivos de entrada\n",
    "dataset = open(\"dataset.txt\",\"r+\")\n",
    "initial_weights = open(\"initial_weights.txt\",\"r+\")\n",
    "network = open(\"network.txt\",\"r+\")"
   ]
  },
  {
   "cell_type": "markdown",
   "metadata": {},
   "source": [
    "#### Rede neural composta por um número ajustável de neurônios e camadas e treinada via backpropagation"
   ]
  },
  {
   "cell_type": "code",
   "execution_count": 3,
   "metadata": {},
   "outputs": [
    {
     "name": "stdout",
     "output_type": "stream",
     "text": [
      "n_inputs 2\n",
      "n_hidden 3\n",
      "n_outputs 1\n",
      "[[['0.4', '0.1'], ['0.3', '0.2']]]\n",
      "[0.3844171880676751, 0.23063730478019573]\n",
      "[{'weights': [0.7116484156678035, 0.15857008773583325]}, {'weights': [0.538954363667775, 0.5235963195247969]}, {'weights': [0.3005311181414514, 0.5977497610241934]}]\n",
      "[{'weights': [0.7, 0.5, 0.6]}]\n"
     ]
    }
   ],
   "source": [
    "def initialize_network(n_inputs, n_hidden, n_outputs, hidden_weights, output_weights):\n",
    "    network = list()\n",
    "    \n",
    "    print('n_inputs', n_inputs)\n",
    "    print('n_hidden', n_hidden)\n",
    "    print('n_outputs', n_outputs)\n",
    "    print(hidden_weights)\n",
    "    \n",
    "    i = 1\n",
    "    print([random() for i in range(n_inputs)])\n",
    "    \n",
    "    hidden_layer = [{'weights':[random() for i in range(n_inputs)]} for i in range(n_hidden)]\n",
    "    network.append(hidden_layer)\n",
    "    output_layer = [{'weights':[0.7, 0.5, 0.6]}]\n",
    "    network.append(output_layer)\n",
    "    return network\n",
    "\n",
    "\n",
    "def_network = list()\n",
    "for line in network:\n",
    "    def_network.append(line.rstrip())\n",
    "\n",
    "def read_weights(file, n_hidden, n_output):\n",
    "    \"\"\" n_hidden is number of weights to neurons \"\"\"\n",
    "    \"\"\" n_output is number of weights to output \"\"\"\n",
    "    hidden_weights = list()\n",
    "    output_weights = list()\n",
    "    lines = file.readlines()\n",
    "    i = 0\n",
    "    while i < n_hidden:\n",
    "        hidden_weights.append([line.split(', ') for line in lines[i].rstrip().split('; ')])\n",
    "        i += 1\n",
    "    while i < n_hidden + n_output:\n",
    "        output_weights.append([line.split(', ') for line in lines[i].rstrip().split('; ')])\n",
    "        i += 1\n",
    "    return hidden_weights, output_weights\n",
    "        \n",
    "    \n",
    "hidden_weights, output_weights = read_weights(initial_weights, 1, 1)\n",
    "\n",
    "nn = initialize_network(int(def_network[1]), int(def_network[2]), int(def_network[3]), hidden_weights, output_weights)\n",
    "print(nn[0])\n",
    "print(nn[1])"
   ]
  },
  {
   "cell_type": "markdown",
   "metadata": {},
   "source": [
    "#### Funcionalidade que permita, via linha de comando, informar a sua implementação a estrutura de uma rede de teste (i.e., estrutura de camadas/neurônios, pesos iniciais, e fator de regularização), e um conjunto de treinamento, e que retorne o gradiente calculado para cada peso"
   ]
  },
  {
   "cell_type": "code",
   "execution_count": null,
   "metadata": {},
   "outputs": [],
   "source": []
  },
  {
   "cell_type": "markdown",
   "metadata": {},
   "source": [
    "#### Funcionalidade que permita, via linha de comando, efetuar a verificação numérica do gradiente, a fim de checar a corretude da implementação de cada grupo"
   ]
  },
  {
   "cell_type": "code",
   "execution_count": null,
   "metadata": {},
   "outputs": [],
   "source": []
  },
  {
   "cell_type": "markdown",
   "metadata": {},
   "source": [
    "#### Um mecanismo para normalização das features/dados de treinamentos"
   ]
  },
  {
   "cell_type": "code",
   "execution_count": null,
   "metadata": {},
   "outputs": [],
   "source": []
  },
  {
   "cell_type": "markdown",
   "metadata": {},
   "source": [
    "#### Mecanismo para uso de regularização"
   ]
  },
  {
   "cell_type": "code",
   "execution_count": null,
   "metadata": {},
   "outputs": [],
   "source": []
  }
 ],
 "metadata": {
  "kernelspec": {
   "display_name": "Python 3",
   "language": "python",
   "name": "python3"
  },
  "language_info": {
   "codemirror_mode": {
    "name": "ipython",
    "version": 3
   },
   "file_extension": ".py",
   "mimetype": "text/x-python",
   "name": "python",
   "nbconvert_exporter": "python",
   "pygments_lexer": "ipython3",
   "version": "3.8.5"
  }
 },
 "nbformat": 4,
 "nbformat_minor": 4
}
