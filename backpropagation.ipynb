{
 "cells": [
  {
   "cell_type": "code",
   "execution_count": 1,
   "metadata": {},
   "outputs": [],
   "source": [
    "# bibliotecas\n",
    "import pandas as pd\n",
    "from random import seed\n",
    "from random import random"
   ]
  },
  {
   "cell_type": "code",
   "execution_count": 2,
   "metadata": {},
   "outputs": [],
   "source": [
    "# lendo os arquivos de entrada\n",
    "dataset = open(\"dataset.txt\",\"r+\")\n",
    "initial_weights = open(\"initial_weights.txt\",\"r+\")\n",
    "network = open(\"network.txt\",\"r+\")"
   ]
  },
  {
   "cell_type": "markdown",
   "metadata": {},
   "source": [
    "#### Rede neural composta por um número ajustável de neurônios e camadas e treinada via backpropagation"
   ]
  },
  {
   "cell_type": "code",
   "execution_count": 3,
   "metadata": {},
   "outputs": [
    {
     "name": "stdout",
     "output_type": "stream",
     "text": [
      "[['0.4', '0.1'], ['0.3', '0.2']]\n",
      "0.9, 0.6; 0.5, 0.8\n",
      "\n"
     ]
    }
   ],
   "source": [
    "def initialize_network(n_inputs, n_hidden, n_outputs, hidden_weights, output_weights):\n",
    "    network = list()\n",
    "    hidden_layer = [{'weights':[random() for i in range(n_inputs)]} for i in range(n_hidden)]\n",
    "    network.append(hidden_layer)\n",
    "    output_layer = [{'weights':[0.7, 0.5, 0.6]}]\n",
    "    network.append(output_layer)\n",
    "    return network\n",
    "\n",
    "\n",
    "defs_network = list()\n",
    "for line in network:\n",
    "    defs_network.append(line.rstrip())\n",
    "\n",
    "def read_weights(file, n_layers):\n",
    "    hidden_weights = list()\n",
    "    for i in [file.readlines(2)[0].rstrip().split('; ')]:\n",
    "        for j in i:\n",
    "            hidden_weights.append(j.split(', '))\n",
    "    print(hidden_weights)\n",
    "    output_weights = file.readlines(4)[0]\n",
    "    print(output_weights)\n",
    "    \n",
    "weights = read_weights(initial_weights, 2)\n",
    "\n",
    "#nn = initialize_network(int(defs_network[1]), int(defs_network[2]), int(defs_network[3]), weights)\n",
    "#print(nn[0])\n",
    "#print(nn[1])"
   ]
  },
  {
   "cell_type": "markdown",
   "metadata": {},
   "source": [
    "#### Funcionalidade que permita, via linha de comando, informar a sua implementação a estrutura de uma rede de teste (i.e., estrutura de camadas/neurônios, pesos iniciais, e fator de regularização), e um conjunto de treinamento, e que retorne o gradiente calculado para cada peso"
   ]
  },
  {
   "cell_type": "code",
   "execution_count": null,
   "metadata": {},
   "outputs": [],
   "source": []
  },
  {
   "cell_type": "markdown",
   "metadata": {},
   "source": [
    "#### Funcionalidade que permita, via linha de comando, efetuar a verificação numérica do gradiente, a fim de checar a corretude da implementação de cada grupo"
   ]
  },
  {
   "cell_type": "code",
   "execution_count": null,
   "metadata": {},
   "outputs": [],
   "source": []
  },
  {
   "cell_type": "markdown",
   "metadata": {},
   "source": [
    "#### Um mecanismo para normalização das features/dados de treinamentos"
   ]
  },
  {
   "cell_type": "code",
   "execution_count": null,
   "metadata": {},
   "outputs": [],
   "source": []
  },
  {
   "cell_type": "markdown",
   "metadata": {},
   "source": [
    "#### Mecanismo para uso de regularização"
   ]
  },
  {
   "cell_type": "code",
   "execution_count": null,
   "metadata": {},
   "outputs": [],
   "source": []
  }
 ],
 "metadata": {
  "kernelspec": {
   "display_name": "Python 3",
   "language": "python",
   "name": "python3"
  },
  "language_info": {
   "codemirror_mode": {
    "name": "ipython",
    "version": 3
   },
   "file_extension": ".py",
   "mimetype": "text/x-python",
   "name": "python",
   "nbconvert_exporter": "python",
   "pygments_lexer": "ipython3",
   "version": "3.8.5"
  }
 },
 "nbformat": 4,
 "nbformat_minor": 4
}
