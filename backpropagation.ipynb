{
 "cells": [
  {
   "cell_type": "code",
   "execution_count": 1,
   "metadata": {},
   "outputs": [],
   "source": [
    "# bibliotecas\n",
    "import math, random\n",
    "import matplotlib\n",
    "import decimal\n",
    "import pandas as pd"
   ]
  },
  {
   "cell_type": "code",
   "execution_count": 2,
   "metadata": {},
   "outputs": [
    {
     "name": "stdout",
     "output_type": "stream",
     "text": [
      "dataset:\n",
      " [['0.32000, 0.68000; 0.75000, 0.98000'], ['0.83000, 0.02000; 0.75000, 0.28000']]\n",
      "def_network:\n",
      " ['0.250', '2', '4', '3', '2']\n"
     ]
    }
   ],
   "source": [
    "# lendo os arquivos de entrada\n",
    "initial_weights = open('initial_weights.txt','r+').readlines()\n",
    "\n",
    "def read_dataset(path_file):\n",
    "    '''função responsável em ler o arquivo de dataset'''\n",
    "    dataset = list()\n",
    "    file = open(path_file, 'r+')\n",
    "    for lines in file:\n",
    "        values_line = list()\n",
    "        dataset.append([lines.rstrip()])\n",
    "    return dataset\n",
    "    \n",
    "def read_def_network(path_file):\n",
    "    '''função responsável em ler o arquivo de definição da rede neural'''\n",
    "    file = open(path_file, \"r+\")\n",
    "    \n",
    "    network = list()\n",
    "    for line in file:\n",
    "        network.append(line.rstrip())\n",
    "    return network\n",
    "\n",
    "dataset = read_dataset(\"dataset.txt\")\n",
    "print('dataset:\\n', dataset)\n",
    "\n",
    "def_network = read_def_network('network.txt')\n",
    "print('def_network:\\n', def_network)"
   ]
  },
  {
   "cell_type": "markdown",
   "metadata": {},
   "source": [
    "#### Rede neural composta por um número ajustável de neurônios e camadas e treinada via backpropagation"
   ]
  },
  {
   "cell_type": "code",
   "execution_count": 3,
   "metadata": {
    "scrolled": false
   },
   "outputs": [
    {
     "name": "stdout",
     "output_type": "stream",
     "text": [
      "[INFO] Regulação:  0.250\n",
      "[INFO] Quantidade de entradas:  2\n",
      "[INFO] Quantidade de saídas:  2\n",
      "[INFO] Camadas ocultas:  ['4', '3'] \n",
      "\n",
      "[INFO] Rede neural criada:  [[{'weights': ['0.42000', '0.15000', '0.40000']}, {'weights': ['0.72000', '0.10000', '0.54000']}, {'weights': ['0.01000', '0.19000', '0.42000']}, {'weights': ['0.30000', '0.35000', '0.68000']}], [{'weights': ['0.21000', '0.67000', '0.14000', '0.96000', '0.87000']}, {'weights': ['0.87000', '0.42000', '0.20000', '0.32000', '0.89000']}, {'weights': ['0.03000', '0.56000', '0.80000', '0.69000', '0.09000']}], [{'weights': ['0.04000', '0.87000', '0.42000', '0.53000']}, {'weights': ['0.17000', '0.10000', '0.95000', '0.69000']}]]\n"
     ]
    }
   ],
   "source": [
    "def create_network(def_network, initial_weights):\n",
    "    '''função responsável em criar a rede neural a partir dos arquivos de definição'''\n",
    "    '''def_network definição da estrutura da rede'''\n",
    "    '''initial_weights pesos inicias da rede'''\n",
    "    network = list()\n",
    "    \n",
    "    # trabalhando sobre o arquivo que define a rede\n",
    "    regulation = def_network[0]\n",
    "    def_network.pop(0) # remove a regulação já armazenada\n",
    "    \n",
    "    input_length = def_network[0]\n",
    "    def_network.pop(0)\n",
    "    \n",
    "    output_length = def_network[len(def_network)-1]\n",
    "    def_network.pop(len(def_network)-1)\n",
    "    \n",
    "    # imprimindo informações capturadas da definição da rede\n",
    "    print('[INFO] Regulação: ', regulation)\n",
    "    print('[INFO] Quantidade de entradas: ', input_length)\n",
    "    print('[INFO] Quantidade de saídas: ', output_length)\n",
    "    # imprimindo informações das camadas ocultas\n",
    "    print('[INFO] Camadas ocultas: ', def_network, '\\n')\n",
    "    \n",
    "    # trabalhando sobre o arquivo de quefine os pesos\n",
    "    for weights in initial_weights:\n",
    "        layers = weights.rstrip().split('; ')\n",
    "        network_layer = list()\n",
    "        for neuron in layers:\n",
    "            if ', ' in neuron:\n",
    "                network_layer.append({'weights': neuron.rstrip().split(', ')})\n",
    "            else:\n",
    "                network_layer.append(neuron)\n",
    "        network.append(network_layer)\n",
    "    print('[INFO] Rede neural criada: ', network)\n",
    "    return network\n",
    "\n",
    "# construindo a rede neural\n",
    "network = create_network(def_network, initial_weights)  # TODO: mudar para o arquivo def a rede\n"
   ]
  },
  {
   "cell_type": "markdown",
   "metadata": {},
   "source": [
    "#### Funcionalidade que permita, via linha de comando, informar a sua implementação a estrutura de uma rede de teste (i.e., estrutura de camadas/neurônios, pesos iniciais, e fator de regularização), e um conjunto de treinamento, e que retorne o gradiente calculado para cada peso"
   ]
  },
  {
   "cell_type": "code",
   "execution_count": null,
   "metadata": {},
   "outputs": [],
   "source": []
  },
  {
   "cell_type": "markdown",
   "metadata": {},
   "source": [
    "#### Funcionalidade que permita, via linha de comando, efetuar a verificação numérica do gradiente, a fim de checar a corretude da implementação de cada grupo"
   ]
  },
  {
   "cell_type": "code",
   "execution_count": null,
   "metadata": {},
   "outputs": [],
   "source": []
  },
  {
   "cell_type": "markdown",
   "metadata": {},
   "source": [
    "#### Um mecanismo para normalização das features/dados de treinamentos"
   ]
  },
  {
   "cell_type": "code",
   "execution_count": null,
   "metadata": {},
   "outputs": [],
   "source": []
  },
  {
   "cell_type": "markdown",
   "metadata": {},
   "source": [
    "#### Mecanismo para uso de regularização"
   ]
  },
  {
   "cell_type": "code",
   "execution_count": null,
   "metadata": {},
   "outputs": [],
   "source": []
  }
 ],
 "metadata": {
  "kernelspec": {
   "display_name": "Python 3",
   "language": "python",
   "name": "python3"
  },
  "language_info": {
   "codemirror_mode": {
    "name": "ipython",
    "version": 3
   },
   "file_extension": ".py",
   "mimetype": "text/x-python",
   "name": "python",
   "nbconvert_exporter": "python",
   "pygments_lexer": "ipython3",
   "version": "3.8.5"
  }
 },
 "nbformat": 4,
 "nbformat_minor": 4
}
