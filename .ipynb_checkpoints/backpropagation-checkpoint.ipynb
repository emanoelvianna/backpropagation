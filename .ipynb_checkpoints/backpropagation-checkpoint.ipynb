{
 "cells": [
  {
   "cell_type": "code",
   "execution_count": 1,
   "metadata": {},
   "outputs": [],
   "source": [
    "# bibliotecas\n",
    "import pandas as pd\n",
    "from random import seed\n",
    "from random import random"
   ]
  },
  {
   "cell_type": "code",
   "execution_count": 2,
   "metadata": {},
   "outputs": [],
   "source": [
    "# lendo os arquivos de entrada\n",
    "dataset = open(\"dataset.txt\",\"r+\")\n",
    "initial_weights = open(\"initial_weights.txt\",\"r+\")\n",
    "\n",
    "def read_def_network(path_file):\n",
    "    '''função responsável em ler o arquivo de definição da rede neural'''\n",
    "    file = open(path_file, \"r+\")\n",
    "    \n",
    "    network = list()\n",
    "    for line in file:\n",
    "        network.append(line.rstrip())\n",
    "    return network\n",
    "\n",
    "def_network = read_def_network(\"network.txt\")"
   ]
  },
  {
   "cell_type": "markdown",
   "metadata": {},
   "source": [
    "#### Rede neural composta por um número ajustável de neurônios e camadas e treinada via backpropagation"
   ]
  },
  {
   "cell_type": "code",
   "execution_count": 3,
   "metadata": {},
   "outputs": [
    {
     "name": "stdout",
     "output_type": "stream",
     "text": [
      "camadas ocultas [[['0.4', '0.1'], ['0.3', '0.2']]]\n",
      "rede neural:  [[['0.4', '0.1'], ['0.3', '0.2']], [['0.7', '0.5', '0.6']]]\n"
     ]
    }
   ],
   "source": [
    "def create_network(initial_weights, n_hidden, n_output):\n",
    "    '''função responsável em criar a rede neural a partir do arquivo de definição'''\n",
    "    '''n_hidden pesos dos neurônios ocultos'''\n",
    "    '''n_output pesos dos neurônios de saída'''\n",
    "    i = 0\n",
    "    network = list()\n",
    "    lines = initial_weights.readlines()\n",
    "    while i < n_hidden:\n",
    "        network.append([line.split(', ') for line in lines[i].rstrip().split('; ')])\n",
    "        i += 1\n",
    "    print('camadas ocultas', network)\n",
    "    while i < n_hidden + n_output:\n",
    "        network.append([line.split(', ') for line in lines[i].rstrip().split('; ')])\n",
    "        i += 1\n",
    "    return network\n",
    "        \n",
    "    \n",
    "network = create_network(initial_weights, 1, 1) # definir a quantidade ñ parece ser uma boa!\n",
    "print('rede neural: ', network)"
   ]
  },
  {
   "cell_type": "markdown",
   "metadata": {},
   "source": [
    "#### Funcionalidade que permita, via linha de comando, informar a sua implementação a estrutura de uma rede de teste (i.e., estrutura de camadas/neurônios, pesos iniciais, e fator de regularização), e um conjunto de treinamento, e que retorne o gradiente calculado para cada peso"
   ]
  },
  {
   "cell_type": "code",
   "execution_count": null,
   "metadata": {},
   "outputs": [],
   "source": []
  },
  {
   "cell_type": "markdown",
   "metadata": {},
   "source": [
    "#### Funcionalidade que permita, via linha de comando, efetuar a verificação numérica do gradiente, a fim de checar a corretude da implementação de cada grupo"
   ]
  },
  {
   "cell_type": "code",
   "execution_count": null,
   "metadata": {},
   "outputs": [],
   "source": []
  },
  {
   "cell_type": "markdown",
   "metadata": {},
   "source": [
    "#### Um mecanismo para normalização das features/dados de treinamentos"
   ]
  },
  {
   "cell_type": "code",
   "execution_count": null,
   "metadata": {},
   "outputs": [],
   "source": []
  },
  {
   "cell_type": "markdown",
   "metadata": {},
   "source": [
    "#### Mecanismo para uso de regularização"
   ]
  },
  {
   "cell_type": "code",
   "execution_count": null,
   "metadata": {},
   "outputs": [],
   "source": []
  }
 ],
 "metadata": {
  "kernelspec": {
   "display_name": "Python 3",
   "language": "python",
   "name": "python3"
  },
  "language_info": {
   "codemirror_mode": {
    "name": "ipython",
    "version": 3
   },
   "file_extension": ".py",
   "mimetype": "text/x-python",
   "name": "python",
   "nbconvert_exporter": "python",
   "pygments_lexer": "ipython3",
   "version": "3.8.5"
  }
 },
 "nbformat": 4,
 "nbformat_minor": 4
}
