{
 "cells": [
  {
   "cell_type": "code",
   "execution_count": 1,
   "metadata": {},
   "outputs": [],
   "source": [
    "# importando bibliotecas auxiliares\n",
    "import math, random\n",
    "import numpy as np"
   ]
  },
  {
   "cell_type": "code",
   "execution_count": 2,
   "metadata": {},
   "outputs": [
    {
     "name": "stdout",
     "output_type": "stream",
     "text": [
      "initial_weights:\n",
      " ['0.40000, 0.10000; 0.30000, 0.20000\\n', '0.70000, 0.50000, 0.60000']\n",
      "dataset:\n",
      " [['0.13000; 0.90000'], ['0.42000; 0.23000']]\n",
      "def_network:\n",
      " ['0.250', '1', '2', '1']\n"
     ]
    }
   ],
   "source": [
    "# lendo os arquivos de entrada\n",
    "def read_initial_weights(path_file):\n",
    "    '''função responsavel em ler o arquivo de pesos inicias'''\n",
    "    return open(path_file,'r+').readlines()\n",
    "\n",
    "def read_dataset(path_file):\n",
    "    '''função responsável em ler o arquivo de dataset'''\n",
    "    dataset = list()\n",
    "    file = open(path_file, 'r+')\n",
    "    for lines in file:\n",
    "        values_line = list()\n",
    "        dataset.append([lines.rstrip()])\n",
    "    return dataset\n",
    "    \n",
    "def read_def_network(path_file):\n",
    "    '''função responsável em ler o arquivo de definição da rede neural'''\n",
    "    file = open(path_file, \"r+\")\n",
    "    \n",
    "    network = list()\n",
    "    for line in file:\n",
    "        network.append(line.rstrip())\n",
    "    return network\n",
    "\n",
    "initial_weights = read_initial_weights('initial_weights.txt')\n",
    "print('initial_weights:\\n', initial_weights)\n",
    "\n",
    "dataset = read_dataset(\"dataset.txt\")\n",
    "print('dataset:\\n', dataset)\n",
    "\n",
    "def_network = read_def_network('network.txt')\n",
    "print('def_network:\\n', def_network)"
   ]
  },
  {
   "cell_type": "markdown",
   "metadata": {},
   "source": [
    "#### Rede neural composta por um número ajustável de neurônios e camadas e treinada via backpropagation"
   ]
  },
  {
   "cell_type": "code",
   "execution_count": 3,
   "metadata": {
    "scrolled": false
   },
   "outputs": [
    {
     "name": "stdout",
     "output_type": "stream",
     "text": [
      "[INFO] Regulação:  0.250\n",
      "[INFO] Quantidade de entradas:  1\n",
      "[INFO] Quantidade de saídas:  1\n",
      "[INFO] Número de neurônios em cada camada oculta:  ['2'] \n",
      "\n",
      "[INFO] Rede neural criada:  [[{'weights': ['0.40000', '0.10000']}, {'weights': ['0.30000', '0.20000']}], [{'weights': ['0.70000', '0.50000', '0.60000']}]] \n",
      "\n",
      "[INFO] valor de saída (fx):  [0.7940274264318581] \n",
      "\n",
      "0.6018070039467833\n",
      "0.5807857981259906\n",
      "\n",
      "\n",
      "0.7940274264318581\n",
      "\n",
      "\n"
     ]
    }
   ],
   "source": [
    "def create_network(def_network, initial_weights):\n",
    "    '''função responsável em criar a rede neural a partir dos arquivos de definição'''\n",
    "    '''def_network definição da estrutura da rede'''\n",
    "    '''initial_weights pesos inicias da rede'''\n",
    "    network = list()\n",
    "    \n",
    "    # trabalhando sobre o arquivo que define a rede\n",
    "    regulation = def_network[0]\n",
    "    def_network.pop(0) # remove a regulação já armazenada\n",
    "    \n",
    "    input_length = def_network[0]\n",
    "    def_network.pop(0)\n",
    "    \n",
    "    output_length = def_network[len(def_network)-1]\n",
    "    def_network.pop(len(def_network)-1)\n",
    "    \n",
    "    # imprimindo informações capturadas da definição da rede\n",
    "    print('[INFO] Regulação: ', regulation)\n",
    "    print('[INFO] Quantidade de entradas: ', input_length)\n",
    "    print('[INFO] Quantidade de saídas: ', output_length)\n",
    "    # imprimindo informações das camadas ocultas\n",
    "    print('[INFO] Número de neurônios em cada camada oculta: ', def_network, '\\n')\n",
    "    \n",
    "    # trabalhando sobre o arquivo de quefine os pesos\n",
    "    for weights in initial_weights:\n",
    "        layers = weights.rstrip().split('; ')\n",
    "        network_layer = list()\n",
    "        for neuron in layers:\n",
    "            if ', ' in neuron:\n",
    "                network_layer.append({'weights': neuron.rstrip().split(', ')})\n",
    "            else:\n",
    "                network_layer.append(neuron)\n",
    "        network.append(network_layer)\n",
    "    print('[INFO] Rede neural criada: ', network, '\\n')\n",
    "    return network\n",
    "\n",
    "def activate(weights, inputs):\n",
    "    '''função responsável por calcular a ativação do neurônio '''\n",
    "    activation = float(weights[0]) # obtendo o peso do vies\n",
    "    print('peso vies: ', float(weights[0]))\n",
    "    for i in range(len(weights)-1):\n",
    "        activation += float(weights[i]) * float(inputs[i])\n",
    "    return activation\n",
    "\n",
    "def dot(v, w):\n",
    "    print(w)"
    "    return sum(float(v_i) * float(w_i) for v_i, w_i in zip(v, w))\n",
    "\n",
    "def sigmoid(activation):\n",
    "    '''função responsável por calcular a aproximação da função'''\n",
    "    return 1 / (1 + math.exp(-activation))\n",
    "\n",
    "def forward_propagate(network, row):\n",
    "    ''''''\n",
    "    inputs = row\n",
    "    \n",
    "    index = 0\n",
    "    for layer in network:\n",
    "        new_inputs = list()\n",
    "        if index != len(network)-1:\n",
    "            new_inputs.append(1.00000) # adicionando a entrada do vies\n",
    "        for neuron in layer:\n",
    "            activation = dot(neuron['weights'], inputs)\n",
    "            neuron['output'] = sigmoid(activation)\n",
    "            new_inputs.append(neuron['output'])\n",
    "        inputs = new_inputs\n",
    "        index = index + 1\n",
    "    return inputs\n",
    "\n",
    "# construindo a rede neural\n",
    "network = create_network(def_network, initial_weights)  # TODO: mudar para o arquivo def a rede\n",
    "row = [1.00000, 0.13000] # adicionando a entrada do vies\n",
    "output = forward_propagate(network, row)\n",
    "print('[INFO] valor de saída (fx): ', output, '\\n')\n",
    "\n",
    "# visualizando a rede com os pesos calculados\n",
    "for layer in network:\n",
    "    for neuron in layer:\n",
    "        print(neuron['output'])\n",
    "    print('\\n')"
   ]
  },
  {
   "cell_type": "markdown",
   "metadata": {},
   "source": [
    "#### Funcionalidade que permita, via linha de comando, informar a sua implementação a estrutura de uma rede de teste (i.e., estrutura de camadas/neurônios, pesos iniciais, e fator de regularização), e um conjunto de treinamento, e que retorne o gradiente calculado para cada peso"
   ]
  },
  {
   "cell_type": "code",
   "execution_count": 4,
   "metadata": {},
   "outputs": [
    {
     "ename": "SyntaxError",
     "evalue": "invalid syntax (<ipython-input-4-ff44336f4032>, line 1)",
     "output_type": "error",
     "traceback": [
      "\u001b[0;36m  File \u001b[0;32m\"<ipython-input-4-ff44336f4032>\"\u001b[0;36m, line \u001b[0;32m1\u001b[0m\n\u001b[0;31m    1.00000   0.60181   0.58079\u001b[0m\n\u001b[0m              ^\u001b[0m\n\u001b[0;31mSyntaxError\u001b[0m\u001b[0;31m:\u001b[0m invalid syntax\n"
     ]
    }
   ],
   "source": [
    "1.00000   0.60181   0.58079\n",
    "0.79403"
   ]
  },
  {
   "cell_type": "markdown",
   "metadata": {},
   "source": [
    "#### Funcionalidade que permita, via linha de comando, efetuar a verificação numérica do gradiente, a fim de checar a corretude da implementação de cada grupo"
   ]
  },
  {
   "cell_type": "code",
   "execution_count": null,
   "metadata": {},
   "outputs": [],
   "source": []
  },
  {
   "cell_type": "markdown",
   "metadata": {},
   "source": [
    "#### Um mecanismo para normalização das features/dados de treinamentos"
   ]
  },
  {
   "cell_type": "code",
   "execution_count": null,
   "metadata": {},
   "outputs": [],
   "source": []
  },
  {
   "cell_type": "markdown",
   "metadata": {},
   "source": [
    "#### Mecanismo para uso de regularização"
   ]
  },
  {
   "cell_type": "code",
   "execution_count": null,
   "metadata": {},
   "outputs": [],
   "source": []
  }
 ],
 "metadata": {
  "kernelspec": {
   "display_name": "Python 3",
   "language": "python",
   "name": "python3"
  },
  "language_info": {
   "codemirror_mode": {
    "name": "ipython",
    "version": 3
   },
   "file_extension": ".py",
   "mimetype": "text/x-python",
   "name": "python",
   "nbconvert_exporter": "python",
   "pygments_lexer": "ipython3",
   "version": "3.8.5"
  }
 },
 "nbformat": 4,
 "nbformat_minor": 4
}
