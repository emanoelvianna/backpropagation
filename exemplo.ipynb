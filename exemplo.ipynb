{
 "cells": [
  {
   "cell_type": "code",
   "execution_count": 1,
   "metadata": {},
   "outputs": [
    {
     "name": "stdout",
     "output_type": "stream",
     "text": [
      "layer:  [{'weights': [0.13436424411240122, 0.8474337369372327, 0.763774618976614]}]\n",
      "\n",
      "--inputs:  [1, 0] \n",
      "\n",
      "weights:  [0.13436424411240122, 0.8474337369372327, 0.763774618976614]\n",
      "activation:  0.763774618976614\n",
      "weights[i]:  0.13436424411240122 inputs[i]:  1\n",
      "weights[i]:  0.8474337369372327 inputs[i]:  0\n",
      "layer:  [{'weights': [0.2550690257394217, 0.49543508709194095]}, {'weights': [0.4494910647887381, 0.651592972722763]}]\n",
      "\n",
      "--inputs:  [0.7105668883115941] \n",
      "\n",
      "weights:  [0.2550690257394217, 0.49543508709194095]\n",
      "activation:  0.49543508709194095\n",
      "weights[i]:  0.2550690257394217 inputs[i]:  0.7105668883115941\n",
      "\n",
      "--inputs:  [0.7105668883115941] \n",
      "\n",
      "weights:  [0.4494910647887381, 0.651592972722763]\n",
      "activation:  0.651592972722763\n",
      "weights[i]:  0.4494910647887381 inputs[i]:  0.7105668883115941\n",
      "[0.6629970129852887, 0.7253160725279748]\n"
     ]
    }
   ],
   "source": [
    "from random import seed\n",
    "from random import random\n",
    "from math import exp\n",
    "\n",
    "# Initialize a network\n",
    "def initialize_network(n_inputs, n_hidden, n_outputs):\n",
    "    network = list()\n",
    "    hidden_layer = [{'weights':[random() for i in range(n_inputs + 1)]} for i in range(n_hidden)]\n",
    "    network.append(hidden_layer)\n",
    "    output_layer = [{'weights':[random() for i in range(n_hidden + 1)]} for i in range(n_outputs)]\n",
    "    network.append(output_layer)\n",
    "    return network\n",
    " \n",
    "# Calculate neuron activation for an input\n",
    "def activate(weights, inputs):\n",
    "    print('\\n--inputs: ', inputs, '\\n')\n",
    "    activation = weights[-1]\n",
    "    print('weights: ', weights)\n",
    "    print('activation: ', activation)\n",
    "    for i in range(len(weights)-1):\n",
    "        print('weights[i]: ', weights[i], 'inputs[i]: ', inputs[i])\n",
    "        activation += weights[i] * inputs[i]\n",
    "    return activation\n",
    " \n",
    "# Transfer neuron activation\n",
    "def transfer(activation):\n",
    "    return 1.0 / (1.0 + exp(-activation))\n",
    " \n",
    "# Forward propagate input to a network output\n",
    "def forward_propagate(network, row):\n",
    "    inputs = row\n",
    "    for layer in network:\n",
    "        print('layer: ', layer)\n",
    "        new_inputs = []\n",
    "        for neuron in layer:\n",
    "            activation = activate(neuron['weights'], inputs)\n",
    "            neuron['output'] = transfer(activation)\n",
    "            new_inputs.append(neuron['output'])\n",
    "        inputs = new_inputs\n",
    "    return inputs\n",
    " \n",
    "\n",
    "# 2 1 2\n",
    "network = [[{'weights': [0.13436424411240122, 0.8474337369372327, 0.763774618976614]}],\n",
    "           [{'weights': [0.2550690257394217, 0.49543508709194095]}, {'weights': [0.4494910647887381, 0.651592972722763]}]]\n",
    "row = [1, 0]\n",
    "output = forward_propagate(network, row)\n",
    "print(output)"
   ]
  },
  {
   "cell_type": "code",
   "execution_count": null,
   "metadata": {},
   "outputs": [],
   "source": []
  },
  {
   "cell_type": "code",
   "execution_count": null,
   "metadata": {},
   "outputs": [],
   "source": []
  }
 ],
 "metadata": {
  "kernelspec": {
   "display_name": "Python 3",
   "language": "python",
   "name": "python3"
  },
  "language_info": {
   "codemirror_mode": {
    "name": "ipython",
    "version": 3
   },
   "file_extension": ".py",
   "mimetype": "text/x-python",
   "name": "python",
   "nbconvert_exporter": "python",
   "pygments_lexer": "ipython3",
   "version": "3.8.5"
  }
 },
 "nbformat": 4,
 "nbformat_minor": 4
}
